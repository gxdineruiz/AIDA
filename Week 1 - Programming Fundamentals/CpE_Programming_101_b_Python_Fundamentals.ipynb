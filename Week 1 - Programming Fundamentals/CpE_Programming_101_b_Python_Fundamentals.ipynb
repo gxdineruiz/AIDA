{
  "nbformat": 4,
  "nbformat_minor": 0,
  "metadata": {
    "colab": {
      "name": "DiCinco_AIDA (Electives).ipynb",
      "provenance": [],
      "collapsed_sections": []
    },
    "kernelspec": {
      "name": "python3",
      "display_name": "Python 3"
    }
  },
  "cells": [
    {
      "cell_type": "markdown",
      "metadata": {
        "id": "6vK_K2jzwcVz"
      },
      "source": [
        "# Welcome to Python Fundamentals\r\n",
        "*by Lee Andrei D. Alvarez, Gian Karl J. Esguerra, Mary Adrienne V. Rodriguez, Geraldine Ann G. Ruiz*\r\n",
        "\r\n",
        "In this module, we are going to establish or review our skills in Python programming. In this notebook we are going to cover:\r\n",
        "* Variables and Data Types \r\n",
        "* Operations\r\n",
        "* Input and Output Operations\r\n",
        "* Logic Control\r\n",
        "* Iterables\r\n",
        "* Functions"
      ]
    },
    {
      "cell_type": "markdown",
      "metadata": {
        "id": "JaKF05XfwjFI"
      },
      "source": [
        "## Variable and Data Types"
      ]
    },
    {
      "cell_type": "code",
      "metadata": {
        "id": "63QpBUJnwmDY"
      },
      "source": [
        "a, b, c, x = 1, 'Hello', 0.5, 8\r\n",
        "\r\n",
        "string = \"This variable type is\"\r\n",
        "print(string, type(a))\r\n",
        "print(string, type(b))\r\n",
        "print(string, type(c))\r\n",
        "\r\n",
        "x = float(x)\r\n",
        "print(string, type(x))"
      ],
      "execution_count": null,
      "outputs": []
    },
    {
      "cell_type": "markdown",
      "metadata": {
        "id": "o6eWj460wi2P"
      },
      "source": [
        "## Operations"
      ]
    },
    {
      "cell_type": "markdown",
      "metadata": {
        "id": "cCb0Pn-l2Dc4"
      },
      "source": [
        "### Arithmetic"
      ]
    },
    {
      "cell_type": "code",
      "metadata": {
        "colab": {
          "base_uri": "https://localhost:8080/"
        },
        "id": "NWrdlqyf2JDG",
        "outputId": "ec4c97e9-4f96-4bcd-b2a3-c9077d2e26ea"
      },
      "source": [
        "A,B,C,D = 3, -1, 2.3, 5\r\n",
        "\r\n",
        "S = A+B #Addition\r\n",
        "Y = B-D #Subtraction\r\n",
        "P = A*D #Multiplication\r\n",
        "Q = C/A #Division\r\n",
        "F = A//B #Floor Division\r\n",
        "H = A**10 #Exponentiation\r\n",
        "mod = 13%D #Modulo\r\n",
        "\r\n",
        "print('Addition: ', S, '\\nSubtraction: ', Y, '\\nMultiplication: ', \r\n",
        "      P, '\\nDivision: ', Q, '\\nFloor Division: ', F, '\\nExponentiation: ', H, '\\nModulo: ', mod)"
      ],
      "execution_count": null,
      "outputs": [
        {
          "output_type": "stream",
          "text": [
            "Addition:  2 \n",
            "Subtraction:  -6 \n",
            "Multiplication:  15 \n",
            "Division:  0.7666666666666666 \n",
            "Floor Division:  -3 \n",
            "Exponentiation:  59049 \n",
            "Modulo:  3\n"
          ],
          "name": "stdout"
        }
      ]
    },
    {
      "cell_type": "markdown",
      "metadata": {
        "id": "lYG1n69v2hKh"
      },
      "source": [
        "### Assignment Operations"
      ]
    },
    {
      "cell_type": "code",
      "metadata": {
        "id": "1T77im2M2Xsu",
        "colab": {
          "base_uri": "https://localhost:8080/"
        },
        "outputId": "1aabdf53-28e2-4151-9149-e2c01e07e93e"
      },
      "source": [
        "G, H, J, K, a, d = 0, 100, 2, 2, 100, 50\r\n",
        "G += a\r\n",
        "H -= d\r\n",
        "J *= 2\r\n",
        "K **= 2\r\n",
        "\r\n",
        "print('Addition: ', G, '\\nSubtraction: ', H, '\\nMultiplication: ', \r\n",
        "      J, '\\nExponentiation: ', K)"
      ],
      "execution_count": null,
      "outputs": [
        {
          "output_type": "stream",
          "text": [
            "Addition:  100 \n",
            "Subtraction:  50 \n",
            "Multiplication:  4 \n",
            "Exponentiation:  4\n"
          ],
          "name": "stdout"
        }
      ]
    },
    {
      "cell_type": "markdown",
      "metadata": {
        "id": "4CqUTltm2vlM"
      },
      "source": [
        "### Comparators"
      ]
    },
    {
      "cell_type": "code",
      "metadata": {
        "id": "3-cyjRmT2uTk",
        "colab": {
          "base_uri": "https://localhost:8080/"
        },
        "outputId": "acf53a94-d0d0-4258-f786-78b077131e14"
      },
      "source": [
        "val1, val2, val3 = 100, 200, 1000\r\n",
        "\r\n",
        "print(\r\n",
        "    'Value 1:', val1,\r\n",
        "    '\\nValue 2:', val2,\r\n",
        "    '\\nValue 3:', val3,\r\n",
        ")\r\n",
        "\r\n",
        "s1 = val1 >= val2\r\n",
        "s2 = val2 <= val3\r\n",
        "s3 = val3 >= val1\r\n",
        "\r\n",
        "print(\r\n",
        "    '\\nIs value 1 greater than or equal to value 2?', s1,\r\n",
        "    '\\nIs value 2 less than or equal to value 3?', s2,\r\n",
        "    '\\nIs value 3 greater than or equal to value 1?', s3,\r\n",
        ")"
      ],
      "execution_count": null,
      "outputs": [
        {
          "output_type": "stream",
          "text": [
            "Value 1: 100 \n",
            "Value 2: 200 \n",
            "Value 3: 1000\n",
            "\n",
            "Is value 1 greater than or equal to value 2? False \n",
            "Is value 2 less than or equal to value 3? True \n",
            "Is value 3 greater than or equal to value 1? True\n"
          ],
          "name": "stdout"
        }
      ]
    },
    {
      "cell_type": "markdown",
      "metadata": {
        "id": "_mtBPtUe37Ui"
      },
      "source": [
        "### Logical"
      ]
    },
    {
      "cell_type": "code",
      "metadata": {
        "colab": {
          "base_uri": "https://localhost:8080/"
        },
        "id": "xIXgFis638LB",
        "outputId": "f9769348-e940-492e-ee14-4c97df314856"
      },
      "source": [
        "print('1. What if p and q is both True?')\r\n",
        "print('2. What if p is True and q is False?')\r\n",
        "print('3. What if p is False and q is True?')\r\n",
        "print('4. What if p and q is both False?')\r\n",
        "ans = input('\\nChoice: ')\r\n",
        "\r\n",
        "if (ans == '1'):\r\n",
        "  p, q = True, True\r\n",
        "\r\n",
        "elif (ans == '2'):\r\n",
        "  p, q = True, False\r\n",
        "\r\n",
        "elif (ans == '3'):\r\n",
        "  p, q = False, True\r\n",
        "\r\n",
        "elif (ans == '1'):\r\n",
        "  p, q = False, False\r\n",
        "\r\n",
        "else:\r\n",
        "  print('\\nNot in the choices. Try again.')\r\n",
        "\r\n",
        "conj = p and q\r\n",
        "disj = p or q\r\n",
        "nand = not(p and q)\r\n",
        "xor = (not p and q) or (p and not q)\r\n",
        "\r\n",
        "print('\\nConjuction:',conj)\r\n",
        "print('Disjunction:',disj)\r\n",
        "print('Negated Conjunction:',nand)\r\n",
        "print('Exclusive Or:',xor)"
      ],
      "execution_count": null,
      "outputs": [
        {
          "output_type": "stream",
          "text": [
            "1. What if p and q is both True?\n",
            "2. What if p is True and q is False?\n",
            "3. What if p is False and q is True?\n",
            "4. What if p and q is both False?\n",
            "\n",
            "Choice: 3\n",
            "\n",
            "Conjuction: False\n",
            "Disjunction: True\n",
            "Negated Conjunction: True\n",
            "Exclusive Or: True\n"
          ],
          "name": "stdout"
        }
      ]
    },
    {
      "cell_type": "markdown",
      "metadata": {
        "id": "9TjSWDsx4qzH"
      },
      "source": [
        "### I/O"
      ]
    },
    {
      "cell_type": "code",
      "metadata": {
        "colab": {
          "base_uri": "https://localhost:8080/"
        },
        "id": "GAcZgdNE44h0",
        "outputId": "c5cfa502-af75-4f8c-ecfa-ea933c877663"
      },
      "source": [
        "name = input('Hello, what is your name? ')\r\n",
        "print('So, your name is', name, '\\nYour name has', len(name), 'characters and', set(name), 'letters')"
      ],
      "execution_count": null,
      "outputs": [
        {
          "output_type": "stream",
          "text": [
            "Hello, what is your name? Gigi\n",
            "So, your name is Gigi \n",
            "Your name has 4 characters and {'G', 'i', 'g'} letters\n"
          ],
          "name": "stdout"
        }
      ]
    },
    {
      "cell_type": "markdown",
      "metadata": {
        "id": "T9GSOcxV5QRv"
      },
      "source": [
        "# Looping Statements"
      ]
    },
    {
      "cell_type": "markdown",
      "metadata": {
        "id": "ouUwTu875S7s"
      },
      "source": [
        "## While"
      ]
    },
    {
      "cell_type": "code",
      "metadata": {
        "colab": {
          "base_uri": "https://localhost:8080/"
        },
        "id": "_OG37PDJ5KpN",
        "outputId": "81bbbcef-4847-4ae1-e8a5-3e5e2c59604b"
      },
      "source": [
        "## while loops\r\n",
        "g, k = 50, 100\r\n",
        "while(g<=k):\r\n",
        "    print(f\"{g}\\t|\\t{k}\")\r\n",
        "    g+=5"
      ],
      "execution_count": null,
      "outputs": [
        {
          "output_type": "stream",
          "text": [
            "50\t|\t100\n",
            "55\t|\t100\n",
            "60\t|\t100\n",
            "65\t|\t100\n",
            "70\t|\t100\n",
            "75\t|\t100\n",
            "80\t|\t100\n",
            "85\t|\t100\n",
            "90\t|\t100\n",
            "95\t|\t100\n",
            "100\t|\t100\n"
          ],
          "name": "stdout"
        }
      ]
    },
    {
      "cell_type": "markdown",
      "metadata": {
        "id": "niK2BHW_5VZb"
      },
      "source": [
        "## For"
      ]
    },
    {
      "cell_type": "code",
      "metadata": {
        "colab": {
          "base_uri": "https://localhost:8080/"
        },
        "id": "MP9enttR5Zs9",
        "outputId": "794633e9-5c7f-4040-aa4c-6b2cc4efa9ea"
      },
      "source": [
        "colors = [\"blue\", \"red\",\"yellow\",\"green\",\"violet\",\"orange\"]\r\n",
        "for color in colors:\r\n",
        "       print(color)\r\n",
        "       if color == \"violet\":\r\n",
        "         break"
      ],
      "execution_count": null,
      "outputs": [
        {
          "output_type": "stream",
          "text": [
            "blue\n",
            "red\n",
            "yellow\n",
            "green\n",
            "violet\n"
          ],
          "name": "stdout"
        }
      ]
    },
    {
      "cell_type": "code",
      "metadata": {
        "colab": {
          "base_uri": "https://localhost:8080/"
        },
        "id": "l1VlyAAL5dbz",
        "outputId": "3b98b20c-3dd4-4088-be84-c653e4634684"
      },
      "source": [
        "films = [\"Action\", \"Horror\", \"Thriller\", \"Comedy\", \"Drama\", \"Romance\"]\r\n",
        "print('Genres:\\n')\r\n",
        "for types in films:\r\n",
        "    print(types)"
      ],
      "execution_count": null,
      "outputs": [
        {
          "output_type": "stream",
          "text": [
            "Genres:\n",
            "\n",
            "Action\n",
            "Horror\n",
            "Thriller\n",
            "Comedy\n",
            "Drama\n",
            "Romance\n"
          ],
          "name": "stdout"
        }
      ]
    },
    {
      "cell_type": "markdown",
      "metadata": {
        "id": "s8HmRUg65iRJ"
      },
      "source": [
        "# Flow Control"
      ]
    },
    {
      "cell_type": "markdown",
      "metadata": {
        "id": "iQS8P3uO5leK"
      },
      "source": [
        "## Condition Statements"
      ]
    },
    {
      "cell_type": "code",
      "metadata": {
        "colab": {
          "base_uri": "https://localhost:8080/"
        },
        "id": "CD0bnliZ5nsS",
        "outputId": "ea28904f-269b-4b49-ceb2-c94e0e4c6810"
      },
      "source": [
        "x = int(input(\"Enter Number Between 1 to 10: \"))\r\n",
        "if x < 0: \r\n",
        "  print('Invalid Choice')\r\n",
        "elif x == 1:\r\n",
        "  print('Beautiful')\r\n",
        "elif x == 2:\r\n",
        "  print('Optimistic')\r\n",
        "elif x == 3: \r\n",
        "  print('Responsible')\r\n",
        "elif x == 4: \r\n",
        "  print('Fun')\r\n",
        "elif x == 5:\r\n",
        "  print('Strong')\r\n",
        "elif x == 6: \r\n",
        "  print('Lovely')\r\n",
        "elif x == 7:\r\n",
        "  print('Cute')\r\n",
        "elif x == 8: \r\n",
        "  print('Adorable')\r\n",
        "elif x == 9: \r\n",
        "  print('Stylish')\r\n",
        "elif x == 10: \r\n",
        "  print('Sweet')\r\n",
        "else: \r\n",
        "  print('Exceeded from numbers 1 to 10')"
      ],
      "execution_count": null,
      "outputs": [
        {
          "output_type": "stream",
          "text": [
            "Enter Number Between 1 to 10: 1\n",
            "Beautiful\n"
          ],
          "name": "stdout"
        }
      ]
    },
    {
      "cell_type": "markdown",
      "metadata": {
        "id": "e_xrcitP5umR"
      },
      "source": [
        "# Functions"
      ]
    },
    {
      "cell_type": "code",
      "metadata": {
        "colab": {
          "base_uri": "https://localhost:8080/"
        },
        "id": "4nC9UU81jMpn",
        "outputId": "05b3a6ae-062c-4593-c0df-cbd3cc1afa01"
      },
      "source": [
        "from IPython.display import clear_output\r\n",
        "stuff = []\r\n",
        "\r\n",
        "def clear():\r\n",
        "  clear_output(wait=True)\r\n",
        "\r\n",
        "def main():\r\n",
        "  clear()\r\n",
        "  y = 1\r\n",
        "  while y == 1:\r\n",
        "    print('\\nList of users:', stuff)\r\n",
        "    type = input('\\nOptions: \\n\\n1. Add User\\n2. Delete User \\n3. Quit\\n\\nAnswer: ')\r\n",
        "    if type == '1':\r\n",
        "      addthis()\r\n",
        "      y = 0\r\n",
        "    elif type == '2':\r\n",
        "      deletethis()\r\n",
        "      y = 0\r\n",
        "    elif type == '3':\r\n",
        "      print('\\nThank you for using the app! Goodbye!')\r\n",
        "      print('\\nList of users:', stuff)\r\n",
        "      y = 0\r\n",
        "    else:\r\n",
        "      print('\\nNot in the options. Please try again')\r\n",
        "\r\n",
        "  \r\n",
        "def addthis():\r\n",
        "  clear()\r\n",
        "  x, y = 1, 0\r\n",
        "  while x == 1:\r\n",
        "    inp = input('\\nType the name of the user would you like to add (type \\'q\\' to quit, \\'b\\' to go back):  ')\r\n",
        "\r\n",
        "    if inp == 'q':\r\n",
        "      print('\\nThanks for using the application! \\nList of users: ', stuff)\r\n",
        "      x = 0\r\n",
        "\r\n",
        "    elif inp == 'b':\r\n",
        "      main()\r\n",
        "      x = 0\r\n",
        "\r\n",
        "    else:\r\n",
        "      stuff.append(inp)\r\n",
        "      print(stuff)\r\n",
        "\r\n",
        "\r\n",
        "def deletethis():\r\n",
        "  clear()\r\n",
        "  z = 1\r\n",
        "  while z == 1:\r\n",
        "    num = 0\r\n",
        "    print('\\nWhich id would you like to delete?\\n')\r\n",
        "\r\n",
        "    for user in stuff:\r\n",
        "      num = num+1\r\n",
        "      print(num,':', ' ', user, sep='')\r\n",
        "    wdelete = int(input('\\nDelete: '))\r\n",
        "    wdelete =+ 1\r\n",
        "\r\n",
        "    if wdelete <= len(stuff):\r\n",
        "      stuff.pop(wdelete)\r\n",
        "      main()\r\n",
        "      z = 0\r\n",
        "\r\n",
        "    else:\r\n",
        "      print('\\nNot in the choices. Try again.')\r\n",
        "\r\n",
        "main()"
      ],
      "execution_count": null,
      "outputs": [
        {
          "output_type": "stream",
          "text": [
            "\n",
            "List of users: ['asdasdad', 'sadasdad', 'sdasdasdasd']\n",
            "\n",
            "Options: \n",
            "\n",
            "1. Add User\n",
            "2. Delete User \n",
            "3. Quit\n",
            "\n",
            "Answer: 3\n",
            "\n",
            "Thank you for using the app! Goodbye!\n",
            "\n",
            "List of users: ['asdasdad', 'sadasdad', 'sdasdasdasd']\n"
          ],
          "name": "stdout"
        }
      ]
    },
    {
      "cell_type": "markdown",
      "metadata": {
        "id": "qlbT6bui5515"
      },
      "source": [
        "### Lambda Functions"
      ]
    },
    {
      "cell_type": "code",
      "metadata": {
        "colab": {
          "base_uri": "https://localhost:8080/"
        },
        "id": "pwDb00uT56ED",
        "outputId": "0dacb9d7-decb-4ca9-f431-d9dd4b343ce6"
      },
      "source": [
        "pg = float(input('Prelim grade: '))\r\n",
        "mg = float(input('Midterm grade: '))\r\n",
        "fg = float(input('Final grade: '))\r\n",
        "prelim = lambda PG: PG * pg\r\n",
        "midterm = lambda MG: MG * mg\r\n",
        "final = lambda FG: FG * fg\r\n",
        "sem_g = prelim(0.30) + midterm(0.30) + final(0.40)\r\n",
        "\r\n",
        "sem_gr = \"{:.2f}\".format(sem_g)\r\n",
        "print('\\nYour semester grade is:', sem_gr)"
      ],
      "execution_count": null,
      "outputs": [
        {
          "output_type": "stream",
          "text": [
            "Prelim grade: 98\n",
            "Midterm grade: 60\n",
            "Final grade: 70\n",
            "\n",
            "Your semester grade is: 75.40\n"
          ],
          "name": "stdout"
        }
      ]
    },
    {
      "cell_type": "code",
      "metadata": {
        "id": "u6MxSoEC6Kmx"
      },
      "source": [
        "'''\r\n",
        "Create a grade calculator that computes for the semestral grade of a course.\r\n",
        "Students could type their names, the name of the course, then their prelim,\r\n",
        "midterm, and final grade.\r\n",
        "The program should print the semestral grade in 2 decimal points and should\r\n",
        "display the following emojis depending on the situation:\r\n",
        "happy - when grade is greater than 70.00\r\n",
        "laughing - when grade is exactly 70.00\r\n",
        "sad - when grade is below 70.00\r\n",
        "'''\r\n",
        "happy, lol, sad = \"\\U0001F600\",\"\\U0001F923\",\"\\U0001F619\""
      ],
      "execution_count": null,
      "outputs": []
    },
    {
      "cell_type": "code",
      "metadata": {
        "id": "JzF6UGMY-9b-",
        "colab": {
          "base_uri": "https://localhost:8080/"
        },
        "outputId": "29e9e510-7934-441d-b0aa-3a486c09a5d9"
      },
      "source": [
        "w_pg, w_mg, w_fg = 0.3, 0.3, 0.4\r\n",
        "\r\n",
        "name = input(\"Enter your name: \")\r\n",
        "course = input(\"Enter your course: \")\r\n",
        "\r\n",
        "if name.isalpha() and course.isalpha():\r\n",
        "\r\n",
        "  prelim = float(input(\"\\nEnter Prelim Grade: \"))\r\n",
        "  midterm = float(input(\"Enter Midterm Grade: \"))\r\n",
        "  finals = float(input(\"Enter Final Grade: \"))\r\n",
        "\r\n",
        "  sem_grade = prelim*w_pg + midterm*w_mg + finals*w_fg\r\n",
        "  sem_gradee = \"{:.2f}\".format(sem_grade)\r\n",
        "\r\n",
        "  happy, lol, sad = \"\\U0001F600\",\"\\U0001F923\",\"\\U0001F619\"\r\n",
        "\r\n",
        "  if(sem_grade > 70):\r\n",
        "      print(\"\\nHello {}, from {}, your semestral grade is {} {}\".format(name,course,sem_gradee,happy))\r\n",
        "  elif(sem_grade == 70):\r\n",
        "      print(\"\\nHello {}, from {}, your semestral grade is {} {}\".format(name,course,sem_gradee,lol))\r\n",
        "  elif(sem_grade < 70):\r\n",
        "      print(\"\\nHello {}, from {}, your semestral grade is {} {}\".format(name,course,sem_gradee,sad))\r\n",
        "  else:\r\n",
        "      print(\"ERROR\")\r\n",
        "\r\n",
        "else:\r\n",
        "    print(\"\\nOnly letters are allowed!\")"
      ],
      "execution_count": null,
      "outputs": [
        {
          "output_type": "stream",
          "text": [
            "Enter your name: Testing\n",
            "Enter your course: BsCpe\n",
            "\n",
            "Enter Prelim Grade: 80\n",
            "Enter Midterm Grade: 80\n",
            "Enter Final Grade: 80\n",
            "\n",
            "Hello Testing, from BsCpe, your semestral grade is 80.00 😀\n"
          ],
          "name": "stdout"
        }
      ]
    }
  ]
}