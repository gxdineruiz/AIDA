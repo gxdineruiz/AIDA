{
 "cells": [
  {
   "cell_type": "markdown",
   "metadata": {
    "id": "QnAdk8hy7Bl9"
   },
   "source": [
    "# Welcome to Python Fundamentals\n",
    "In this module, we are going to establish or review our skills in Python programming. In this notebook we are going to cover:\n",
    "* Variables and Data Types \n",
    "* Operations\n",
    "* Input and Output Operations\n",
    "* Logic Control\n",
    "* Iterables\n",
    "* Functions"
   ]
  },
  {
   "cell_type": "markdown",
   "metadata": {
    "id": "T6ABRAjTT1Ta"
   },
   "source": [
    "## Variable and Data Types"
   ]
  },
  {
   "cell_type": "code",
   "execution_count": null,
   "metadata": {
    "id": "G8JI3DTZ616F"
   },
   "outputs": [],
   "source": [
    "x = 1\n",
    "a,b = 0, -1"
   ]
  },
  {
   "cell_type": "code",
   "execution_count": null,
   "metadata": {
    "id": "QLT9rz2dUJ95"
   },
   "outputs": [],
   "source": [
    "type(x)"
   ]
  },
  {
   "cell_type": "code",
   "execution_count": null,
   "metadata": {
    "id": "TR_rvX4SUWqx"
   },
   "outputs": [],
   "source": [
    "y = 1.0\n",
    "type(y)"
   ]
  },
  {
   "cell_type": "code",
   "execution_count": null,
   "metadata": {
    "id": "FqV2upOiXcnC"
   },
   "outputs": [],
   "source": [
    "x = float(x)\n",
    "type(x)"
   ]
  },
  {
   "cell_type": "code",
   "execution_count": null,
   "metadata": {
    "id": "2tuyqwmyXiDb"
   },
   "outputs": [],
   "source": [
    "s,t,u = \"0\", '1', 'one'\n",
    "type(s)"
   ]
  },
  {
   "cell_type": "code",
   "execution_count": null,
   "metadata": {
    "id": "6JwWqHx3XlmB"
   },
   "outputs": [],
   "source": [
    "s_int = int(s)\n",
    "s_int"
   ]
  },
  {
   "cell_type": "markdown",
   "metadata": {
    "id": "9RgPwQR4YVG5"
   },
   "source": [
    "## Operations"
   ]
  },
  {
   "cell_type": "markdown",
   "metadata": {
    "id": "mvoS_zuJYbsg"
   },
   "source": [
    "### Arithmetic"
   ]
  },
  {
   "cell_type": "code",
   "execution_count": null,
   "metadata": {
    "id": "DSjUO0KcYoE-"
   },
   "outputs": [],
   "source": [
    "a,b,c,d = 2.0, -0.5, 0, -32"
   ]
  },
  {
   "cell_type": "code",
   "execution_count": null,
   "metadata": {
    "id": "o_kk0XFzYX9o"
   },
   "outputs": [],
   "source": [
    "### Addition\n",
    "S = a+b\n",
    "S"
   ]
  },
  {
   "cell_type": "code",
   "execution_count": null,
   "metadata": {
    "id": "TC5oFq3MY4jk"
   },
   "outputs": [],
   "source": [
    "### Subtraction\n",
    "D = b-d\n",
    "D"
   ]
  },
  {
   "cell_type": "code",
   "execution_count": null,
   "metadata": {
    "id": "j0bGayj5Y9wr"
   },
   "outputs": [],
   "source": [
    "### Multiplication\n",
    "P = a*d\n",
    "P"
   ]
  },
  {
   "cell_type": "code",
   "execution_count": null,
   "metadata": {
    "id": "FnMWmq5LZLEU"
   },
   "outputs": [],
   "source": [
    "### Division\n",
    "Q = c/a\n",
    "Q"
   ]
  },
  {
   "cell_type": "code",
   "execution_count": null,
   "metadata": {
    "id": "cQeVcFIWZd8o"
   },
   "outputs": [],
   "source": [
    "### Floor Division\n",
    "Fq = a//b\n",
    "Fq"
   ]
  },
  {
   "cell_type": "code",
   "execution_count": null,
   "metadata": {
    "id": "YLaUu6APZSzR"
   },
   "outputs": [],
   "source": [
    "### Exponentiation\n",
    "E = a**b\n",
    "E"
   ]
  },
  {
   "cell_type": "code",
   "execution_count": null,
   "metadata": {
    "id": "uf_0sf4CZ1JT"
   },
   "outputs": [],
   "source": [
    "### Modulo\n",
    "mod = d%a\n",
    "mod"
   ]
  },
  {
   "cell_type": "markdown",
   "metadata": {
    "id": "afyWvb1ZaJJ6"
   },
   "source": [
    "### Assignment Operations"
   ]
  },
  {
   "cell_type": "code",
   "execution_count": null,
   "metadata": {
    "id": "rMZ8r4WhanaE"
   },
   "outputs": [],
   "source": [
    "G, H, J, K = 0, 100, 2, 2"
   ]
  },
  {
   "cell_type": "code",
   "execution_count": null,
   "metadata": {
    "id": "IX0EbJ8RaMih"
   },
   "outputs": [],
   "source": [
    "G += a\n",
    "G"
   ]
  },
  {
   "cell_type": "code",
   "execution_count": null,
   "metadata": {
    "id": "aIj4hA-JaRA0"
   },
   "outputs": [],
   "source": [
    "H -= d"
   ]
  },
  {
   "cell_type": "code",
   "execution_count": null,
   "metadata": {
    "id": "vuuDbAbNaXgS"
   },
   "outputs": [],
   "source": [
    "J *= 2\n",
    "J"
   ]
  },
  {
   "cell_type": "code",
   "execution_count": null,
   "metadata": {
    "id": "sGVXGduUaeAj"
   },
   "outputs": [],
   "source": [
    "K **= 2\n",
    "K"
   ]
  },
  {
   "cell_type": "markdown",
   "metadata": {
    "id": "UGXuqhVNbW7R"
   },
   "source": [
    "### Comparators"
   ]
  },
  {
   "cell_type": "code",
   "execution_count": null,
   "metadata": {
    "id": "Oj9xLaEaYeuY"
   },
   "outputs": [],
   "source": [
    "res_1, res_2, res_3 = 1, 2.0, \"1\"\n",
    "true_val = 1.0"
   ]
  },
  {
   "cell_type": "code",
   "execution_count": null,
   "metadata": {
    "id": "GEXm6RSsbA8Q"
   },
   "outputs": [],
   "source": [
    "## Equality\n",
    "res_1 == true_val"
   ]
  },
  {
   "cell_type": "code",
   "execution_count": null,
   "metadata": {
    "id": "SdHk_b58bZhD"
   },
   "outputs": [],
   "source": [
    "## Non-equality\n",
    "res_2 != true_val"
   ]
  },
  {
   "cell_type": "code",
   "execution_count": null,
   "metadata": {
    "id": "EnA4q50JbQB5"
   },
   "outputs": [],
   "source": [
    "## Inequality\n",
    "t1 = res_1 > res_2\n",
    "t2 = res_1 < res_2/2\n",
    "t3 = res_1 >= res_2/2\n",
    "t4 = res_1 <= res_2  \n",
    "t1"
   ]
  },
  {
   "cell_type": "markdown",
   "metadata": {
    "id": "9WkfdvbfcC1Y"
   },
   "source": [
    "### Logical"
   ]
  },
  {
   "cell_type": "code",
   "execution_count": null,
   "metadata": {
    "id": "cYVG6YeNb-Gz"
   },
   "outputs": [],
   "source": [
    "res_1 == true_val"
   ]
  },
  {
   "cell_type": "code",
   "execution_count": null,
   "metadata": {
    "id": "rLe6hpkHcN-z"
   },
   "outputs": [],
   "source": [
    "res_1 is true_val"
   ]
  },
  {
   "cell_type": "code",
   "execution_count": null,
   "metadata": {
    "id": "tr5qxHQmcO-C"
   },
   "outputs": [],
   "source": [
    "res_1 is not true_val"
   ]
  },
  {
   "cell_type": "code",
   "execution_count": null,
   "metadata": {
    "id": "3GU72N-Gcslz"
   },
   "outputs": [],
   "source": [
    "p, q = True, False\n",
    "conj = p and q\n",
    "conj"
   ]
  },
  {
   "cell_type": "code",
   "execution_count": null,
   "metadata": {
    "id": "ihMxcT6KcvQj"
   },
   "outputs": [],
   "source": [
    "p, q = True, False\n",
    "disj = p or q\n",
    "disj"
   ]
  },
  {
   "cell_type": "code",
   "execution_count": null,
   "metadata": {
    "id": "T-QfmeYgcyGQ"
   },
   "outputs": [],
   "source": [
    "p, q = True, False\n",
    "nand = not(p and q)\n",
    "nand"
   ]
  },
  {
   "cell_type": "code",
   "execution_count": null,
   "metadata": {
    "id": "2HL7SlVbc10k"
   },
   "outputs": [],
   "source": [
    "p, q = True, False\n",
    "xor = (not p and q) or (p and not q)\n",
    "xor"
   ]
  },
  {
   "cell_type": "markdown",
   "metadata": {
    "id": "AQx4DKafYffJ"
   },
   "source": [
    "### I/O"
   ]
  },
  {
   "cell_type": "code",
   "execution_count": null,
   "metadata": {
    "id": "Q-DVERG5Yk9w"
   },
   "outputs": [],
   "source": [
    "print(\"Hello World\")"
   ]
  },
  {
   "cell_type": "code",
   "execution_count": null,
   "metadata": {
    "id": "fS5wN51beSVF"
   },
   "outputs": [],
   "source": [
    "cnt = 1"
   ]
  },
  {
   "cell_type": "code",
   "execution_count": null,
   "metadata": {
    "id": "hKNaUXmdZdUo"
   },
   "outputs": [],
   "source": [
    "string = \"Hello World\"\n",
    "print(string, \", Current run count is:\", cnt)\n",
    "cnt += 1"
   ]
  },
  {
   "cell_type": "code",
   "execution_count": null,
   "metadata": {
    "id": "15_WdzEZcOVX"
   },
   "outputs": [],
   "source": [
    "print(f\"{string}, Current count is: {cnt}\")"
   ]
  },
  {
   "cell_type": "code",
   "execution_count": null,
   "metadata": {
    "id": "5m9XtFOPcOXo"
   },
   "outputs": [],
   "source": [
    "sem_grade = 82.243564657461234\n",
    "name = \"\"\n",
    "print(\"Hello {}, your semestral grade is: {}\".format(name, sem_grade))"
   ]
  },
  {
   "cell_type": "code",
   "execution_count": null,
   "metadata": {
    "id": "SMJx6bTnfdgZ"
   },
   "outputs": [],
   "source": [
    "w_pg, w_mg, w_fg = 0.3, 0.3, 0.4\n",
    "print(\"The weights of your semestral grades are:\\\n",
    "\\n\\t{:.2%} for Prelims\\\n",
    "\\n\\t{:.2%} for Midterms, and\\\n",
    "\\n\\t{:.2%} for Finals.\".format(w_pg, w_mg, w_fg))"
   ]
  },
  {
   "cell_type": "code",
   "execution_count": null,
   "metadata": {
    "id": "Ob2I_zR3jAcZ"
   },
   "outputs": [],
   "source": [
    "x = input(\"enter a number: \")\n",
    "x"
   ]
  },
  {
   "cell_type": "code",
   "execution_count": null,
   "metadata": {
    "id": "T7ODFfcMh9Pg"
   },
   "outputs": [],
   "source": [
    "name = input(\"Kimi no nawa: \")\n",
    "pg = input(\"Enter prelim grade: \")\n",
    "mg = input(\"Enter midterm grade: \")\n",
    "fg = input(\"Enter finals grade: \")\n",
    "sem_grade = None\n",
    "print(\"Hello {}, your semestral grade is: {}\".format(name, sem_grade))"
   ]
  },
  {
   "cell_type": "markdown",
   "metadata": {
    "id": "i0g3EothhvqL"
   },
   "source": [
    "# Looping Statements"
   ]
  },
  {
   "cell_type": "markdown",
   "metadata": {
    "id": "j4w90VAIjcFJ"
   },
   "source": [
    "## While"
   ]
  },
  {
   "cell_type": "code",
   "execution_count": null,
   "metadata": {
    "id": "4vtSrBPThlse"
   },
   "outputs": [],
   "source": [
    "## while loops\n",
    "i, j = 0, 10\n",
    "while(i<=j):\n",
    "    print(f\"{i}\\t|\\t{j}\")\n",
    "    i+=1"
   ]
  },
  {
   "cell_type": "markdown",
   "metadata": {
    "id": "Qz6AH6jRjfUg"
   },
   "source": [
    "## For"
   ]
  },
  {
   "cell_type": "code",
   "execution_count": null,
   "metadata": {
    "id": "q0DUwfRkjZY7"
   },
   "outputs": [],
   "source": [
    "# for(int i=0; i<10; i++){\n",
    "# printf(i)\n",
    "# }\n",
    "\n",
    "i=0\n",
    "for i in range(10):\n",
    "    print(i)"
   ]
  },
  {
   "cell_type": "code",
   "execution_count": null,
   "metadata": {
    "id": "zaM--lUhjiUg"
   },
   "outputs": [],
   "source": [
    "playlist = []\n",
    "print('Now Playing:\\n')\n",
    "for song in playlist:\n",
    "    print(song)"
   ]
  },
  {
   "cell_type": "markdown",
   "metadata": {
    "id": "N6jTqTZojnSg"
   },
   "source": [
    "# Flow Control"
   ]
  },
  {
   "cell_type": "markdown",
   "metadata": {
    "id": "uhnsV2CijrWQ"
   },
   "source": [
    "## Condition Statements"
   ]
  },
  {
   "cell_type": "code",
   "execution_count": null,
   "metadata": {
    "id": "seJplrJojmTg"
   },
   "outputs": [],
   "source": [
    "numeral1, numeral2 = 12, 12\n",
    "if(numeral1 == numeral2):\n",
    "    print(\"Yey\")\n",
    "elif(numeral1>numeral2):\n",
    "    print(\"Hoho\")\n",
    "else:\n",
    "    print(\"Aww\")\n",
    "print(\"Hip hip\")"
   ]
  },
  {
   "cell_type": "markdown",
   "metadata": {
    "id": "tlnG1OKilNLo"
   },
   "source": [
    "# Functions"
   ]
  },
  {
   "cell_type": "code",
   "execution_count": null,
   "metadata": {
    "id": "1iMUEipnlUKY"
   },
   "outputs": [],
   "source": [
    "# void DeleteUser(int userid){\n",
    "#     delete(userid);\n",
    "# }\n",
    "\n",
    "def delete_user (userid):\n",
    "    print(\"Successfully deleted user: {}\".format(userid))\n",
    "    \n",
    "def delete_all_users ():\n",
    "    print(\"Successfully deleted all users\")"
   ]
  },
  {
   "cell_type": "code",
   "execution_count": null,
   "metadata": {
    "id": "v_TkrftylUEA"
   },
   "outputs": [],
   "source": [
    "userid = 0\n",
    "delete_user(0)\n",
    "delete_all_users()"
   ]
  },
  {
   "cell_type": "code",
   "execution_count": null,
   "metadata": {
    "id": "M0ffjw31lT8Y"
   },
   "outputs": [],
   "source": [
    "def add(addend1, addend2):\n",
    "    return addend1 + addend2\n",
    "\n",
    "def power_of_base2(exponent):\n",
    "    return 2**exponent"
   ]
  },
  {
   "cell_type": "markdown",
   "metadata": {
    "id": "2_tDT01oFEGQ"
   },
   "source": [
    "### Lambda Functions"
   ]
  },
  {
   "cell_type": "code",
   "execution_count": null,
   "metadata": {
    "id": "tmmBNW9pFg-4"
   },
   "outputs": [],
   "source": [
    "x = 4"
   ]
  },
  {
   "cell_type": "code",
   "execution_count": null,
   "metadata": {
    "id": "_9KYzCrIFCpI"
   },
   "outputs": [],
   "source": [
    "def f(x):\n",
    "  return 2*(x*x)-1\n",
    "f(x)"
   ]
  },
  {
   "cell_type": "code",
   "execution_count": null,
   "metadata": {
    "id": "a2uwKwqFFafn"
   },
   "outputs": [],
   "source": [
    "g = lambda x: 2*(x*x)-1\n",
    "print(g(x))"
   ]
  },
  {
   "cell_type": "code",
   "execution_count": null,
   "metadata": {
    "id": "Rjm9RFrGlMgA"
   },
   "outputs": [],
   "source": [
    "'''\n",
    "Create a grade calculator that computes for the semestral grade of a course.\n",
    "Students could type their names, the name of the course, then their prelim,\n",
    "midterm, and final grade.\n",
    "The program should print the semestral grade in 2 decimal points and should\n",
    "display the following emojis depending on the situation:\n",
    "happy - when grade is greater than 70.00\n",
    "laughing - when grade is exactly 70.00\n",
    "sad - when grade is below 70.00\n",
    "'''\n",
    "happy, lol, sad = \"\\U0001F600\",\"\\U0001F923\",\"\\U0001F619\""
   ]
  },
  {
   "cell_type": "code",
   "execution_count": 3,
   "metadata": {},
   "outputs": [
    {
     "name": "stdout",
     "output_type": "stream",
     "text": [
      "Enter your name: Gigi\n",
      "Enter your course: BsCpe\n",
      "\n",
      "Enter Prelim Grade: 90\n",
      "Enter Midterm Grade: 90\n",
      "Enter Final Grade: 90\n",
      "\n",
      "Hello Gigi, from BsCpe, your semestral grade is 90.00 😀\n"
     ]
    }
   ],
   "source": [
    "w_pg, w_mg, w_fg = 0.3, 0.3, 0.4\n",
    "\n",
    "name = input(\"Enter your name: \")\n",
    "course = input(\"Enter your course: \")\n",
    "\n",
    "if name.isalpha() and course.isalpha():\n",
    "\n",
    "  prelim = float(input(\"\\nEnter Prelim Grade: \"))\n",
    "  midterm = float(input(\"Enter Midterm Grade: \"))\n",
    "  finals = float(input(\"Enter Final Grade: \"))\n",
    "\n",
    "  sem_grade = prelim*w_pg + midterm*w_mg + finals*w_fg\n",
    "  sem_gradee = \"{:.2f}\".format(sem_grade)\n",
    "\n",
    "  happy, lol, sad = \"\\U0001F600\",\"\\U0001F923\",\"\\U0001F619\"\n",
    "\n",
    "  if(sem_grade > 70):\n",
    "      print(\"\\nHello {}, from {}, your semestral grade is {} {}\".format(name,course,sem_gradee,happy))\n",
    "  elif(sem_grade == 70):\n",
    "      print(\"\\nHello {}, from {}, your semestral grade is {} {}\".format(name,course,sem_gradee,lol))\n",
    "  elif(sem_grade < 70):\n",
    "      print(\"\\nHello {}, from {}, your semestral grade is {} {}\".format(name,course,sem_gradee,sad))\n",
    "  else:\n",
    "      print(\"ERROR\")\n",
    "\n",
    "else:\n",
    "    print(\"\\nOnly letters are allowed!\")"
   ]
  }
 ],
 "metadata": {
  "colab": {
   "authorship_tag": "ABX9TyOLTnlQQtWMGpWr583XlWhX",
   "collapsed_sections": [],
   "include_colab_link": true,
   "name": "CpE Programming 101.b - Python Fundamentals",
   "provenance": []
  },
  "kernelspec": {
   "display_name": "Python 3",
   "language": "python",
   "name": "python3"
  },
  "language_info": {
   "codemirror_mode": {
    "name": "ipython",
    "version": 3
   },
   "file_extension": ".py",
   "mimetype": "text/x-python",
   "name": "python",
   "nbconvert_exporter": "python",
   "pygments_lexer": "ipython3",
   "version": "3.9.1"
  }
 },
 "nbformat": 4,
 "nbformat_minor": 1
}
